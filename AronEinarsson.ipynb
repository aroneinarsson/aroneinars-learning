{
  "metadata": {
    "language_info": {
      "codemirror_mode": {
        "name": "python",
        "version": 3
      },
      "file_extension": ".py",
      "mimetype": "text/x-python",
      "name": "python",
      "nbconvert_exporter": "python",
      "pygments_lexer": "ipython3",
      "version": "3.8"
    },
    "kernelspec": {
      "name": "python",
      "display_name": "Pyolite",
      "language": "python"
    }
  },
  "nbformat_minor": 4,
  "nbformat": 4,
  "cells": [
    {
      "cell_type": "markdown",
      "source": "# My jupyter Notebook on IBM Watson Studio",
      "metadata": {}
    },
    {
      "cell_type": "markdown",
      "source": "**Aron Einarsson**\nBusiness Analyst",
      "metadata": {}
    },
    {
      "cell_type": "markdown",
      "source": "*I'm interested in data science because I like being able to read data and use data to my advantage for decision making*",
      "metadata": {}
    },
    {
      "cell_type": "markdown",
      "source": "### Calculating 3 * 4",
      "metadata": {}
    },
    {
      "cell_type": "code",
      "source": "3 * 4",
      "metadata": {
        "trusted": true
      },
      "execution_count": 2,
      "outputs": [
        {
          "execution_count": 2,
          "output_type": "execute_result",
          "data": {
            "text/plain": "12"
          },
          "metadata": {}
        }
      ]
    },
    {
      "cell_type": "markdown",
      "source": "1. This is a numbered list\n2. I'm trying to think of words\n3. This is all you're getting\n\n+ This is a bullet list\n+ I find it funny that you can use +, -, and * to do the same thing\n\n[This is a ",
      "metadata": {}
    }
  ]
}